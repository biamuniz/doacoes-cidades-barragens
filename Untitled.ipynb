{
 "cells": [
  {
   "cell_type": "code",
   "execution_count": null,
   "id": "8b8f8d5f",
   "metadata": {},
   "outputs": [],
   "source": [
    "import pandas as pd\n",
    "import numpy as np\n",
    "pd.set_option('display.max_columns', None)\n",
    "pd.set_option('display.max_rows', None)"
   ]
  },
  {
   "cell_type": "code",
   "execution_count": null,
   "id": "537fecda",
   "metadata": {},
   "outputs": [],
   "source": [
    "rec12 = pd.read_csv('receitas_candidatos_2012_MG.txt', sep=';', encoding='latin_1', error_bad_lines=False)\n",
    "rec16 = pd.read_csv('receitas_candidatos_2016_MG.txt', sep=';', encoding='latin_1', error_bad_lines=False)\n",
    "rec20 = pd.read_csv('receitas_candidatos_2020_MG.csv', sep=';', encoding='latin_1', error_bad_lines=False)"
   ]
  },
  {
   "cell_type": "code",
   "execution_count": null,
   "id": "587f212e",
   "metadata": {},
   "outputs": [],
   "source": [
    "##Renomeando as colunas das bases\n",
    "rec12 = rec12.rename(columns={'Numero UE':'Sigla da UE','Municipio':'Nome da UE','CPF/CNPJ do doador':'CPFCNPJ do doador'})\n",
    "rec16 = rec16.rename(columns={'Número partido doador':'Numero partido','CPF/CNPJ do doador':'CPFCNPJ do doador'})\n",
    "rec20 = rec20.rename(columns={'ANO_ELEICAO':'Ano','SG_UF':'UF','SG_UE':'Sigla da UE','NM_UE':'Nome da UE',\n",
    "                              'SQ_CANDIDATO':'Sequencial Candidato','NR_CANDIDATO':'Numero candidato',\n",
    "                              'NM_CANDIDATO':'Nome candidato','DS_CARGO':'Cargo','NR_CPF_CANDIDATO':'CPF do candidato',\n",
    "                              'SG_PARTIDO':'Sigla  Partido','NR_PARTIDO':'Numero partido','NM_DOADOR':'Nome do doador',\n",
    "                              'NM_DOADOR_RFB':'Nome do doador (Receita Federal)','NR_CPF_CNPJ_DOADOR':'CPFCNPJ do doador',\n",
    "                              'DS_CNAE_DOADOR':'Setor econômico do doador','VR_RECEITA':'Valor receita',\n",
    "                              'DS_ORIGEM_RECEITA':'Tipo receita','DS_RECEITA':'Descricao da receita',\n",
    "                              'DS_FONTE_RECEITA':'Fonte recurso','DS_ESPECIE_RECEITA':'Especie recurso'})"
   ]
  },
  {
   "cell_type": "code",
   "execution_count": null,
   "id": "94ca3553",
   "metadata": {},
   "outputs": [],
   "source": [
    "##Ordenando as colunas\n",
    "rec12 = rec12.reindex(columns=['Ano','UF','Sigla da UE','Nome da UE','Sequencial Candidato','Numero candidato',\n",
    "                               'Nome candidato', 'Cargo', 'CPF do candidato','Sigla  Partido','Numero partido',\n",
    "                               'Nome do doador', 'Nome do doador (Receita Federal)','CPFCNPJ do doador',\n",
    "                               'Setor econômico do doador','Valor receita', 'Tipo receita', 'Descricao da receita',\n",
    "                               'Fonte recurso', 'Especie recurso'])"
   ]
  },
  {
   "cell_type": "code",
   "execution_count": null,
   "id": "7288bea2",
   "metadata": {},
   "outputs": [],
   "source": [
    "rec16 = rec16.reindex(columns=['Ano','UF','Sigla da UE','Nome da UE','Sequencial Candidato','Numero candidato',\n",
    "                               'Nome candidato', 'Cargo', 'CPF do candidato','Sigla  Partido','Numero partido',\n",
    "                               'Nome do doador', 'Nome do doador (Receita Federal)','CPFCNPJ do doador',\n",
    "                               'Setor econômico do doador','Valor receita', 'Tipo receita', 'Descricao da receita',\n",
    "                               'Fonte recurso', 'Especie recurso'])"
   ]
  },
  {
   "cell_type": "code",
   "execution_count": null,
   "id": "32f04e02",
   "metadata": {},
   "outputs": [],
   "source": [
    "rec20 = rec20.reindex(columns=['Ano','UF','Sigla da UE','Nome da UE','Sequencial Candidato','Numero candidato',\n",
    "                               'Nome candidato', 'Cargo', 'CPF do candidato','Sigla  Partido','Numero partido',\n",
    "                               'Nome do doador', 'Nome do doador (Receita Federal)','CPFCNPJ do doador',\n",
    "                               'Setor econômico do doador','Valor receita', 'Tipo receita', 'Descricao da receita',\n",
    "                               'Fonte recurso', 'Especie recurso'])"
   ]
  }
 ],
 "metadata": {
  "kernelspec": {
   "display_name": "Python 3",
   "language": "python",
   "name": "python3"
  },
  "language_info": {
   "codemirror_mode": {
    "name": "ipython",
    "version": 3
   },
   "file_extension": ".py",
   "mimetype": "text/x-python",
   "name": "python",
   "nbconvert_exporter": "python",
   "pygments_lexer": "ipython3",
   "version": "3.8.8"
  }
 },
 "nbformat": 4,
 "nbformat_minor": 5
}
